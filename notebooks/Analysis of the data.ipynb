{
 "cells": [
  {
   "cell_type": "markdown",
   "metadata": {},
   "source": [
    "# Load data with the new search url"
   ]
  },
  {
   "cell_type": "code",
   "execution_count": 1,
   "metadata": {},
   "outputs": [],
   "source": [
    "import pandas as pd"
   ]
  },
  {
   "cell_type": "code",
   "execution_count": 2,
   "metadata": {},
   "outputs": [],
   "source": [
    "df = pd.read_csv(r\"..\\data\\tweets_01_02_2019.csv\")"
   ]
  },
  {
   "cell_type": "code",
   "execution_count": 3,
   "metadata": {},
   "outputs": [
    {
     "data": {
      "text/plain": [
       "(240, 6)"
      ]
     },
     "execution_count": 3,
     "metadata": {},
     "output_type": "execute_result"
    }
   ],
   "source": [
    "df.shape"
   ]
  },
  {
   "cell_type": "code",
   "execution_count": 4,
   "metadata": {},
   "outputs": [],
   "source": [
    "df.drop_duplicates(inplace=True)"
   ]
  },
  {
   "cell_type": "code",
   "execution_count": 5,
   "metadata": {},
   "outputs": [
    {
     "data": {
      "text/plain": [
       "(40, 6)"
      ]
     },
     "execution_count": 5,
     "metadata": {},
     "output_type": "execute_result"
    }
   ],
   "source": [
    "df.shape"
   ]
  },
  {
   "cell_type": "code",
   "execution_count": 6,
   "metadata": {},
   "outputs": [
    {
     "data": {
      "text/plain": [
       "en     33\n",
       "ro      2\n",
       "it      2\n",
       "fr      1\n",
       "und     1\n",
       "bg      1\n",
       "Name: lang, dtype: int64"
      ]
     },
     "execution_count": 6,
     "metadata": {},
     "output_type": "execute_result"
    }
   ],
   "source": [
    "df.lang.value_counts(dropna=False)"
   ]
  },
  {
   "cell_type": "code",
   "execution_count": 7,
   "metadata": {},
   "outputs": [],
   "source": [
    "english_tweets = df.loc[df.lang == 'en', :]"
   ]
  },
  {
   "cell_type": "code",
   "execution_count": 8,
   "metadata": {},
   "outputs": [
    {
     "data": {
      "text/html": [
       "<div>\n",
       "<style scoped>\n",
       "    .dataframe tbody tr th:only-of-type {\n",
       "        vertical-align: middle;\n",
       "    }\n",
       "\n",
       "    .dataframe tbody tr th {\n",
       "        vertical-align: top;\n",
       "    }\n",
       "\n",
       "    .dataframe thead th {\n",
       "        text-align: right;\n",
       "    }\n",
       "</style>\n",
       "<table border=\"1\" class=\"dataframe\">\n",
       "  <thead>\n",
       "    <tr style=\"text-align: right;\">\n",
       "      <th></th>\n",
       "      <th>hour_created</th>\n",
       "      <th>lang</th>\n",
       "      <th>stats</th>\n",
       "      <th>time_created</th>\n",
       "      <th>tweet_text</th>\n",
       "      <th>user_name</th>\n",
       "    </tr>\n",
       "  </thead>\n",
       "  <tbody>\n",
       "    <tr>\n",
       "      <th>0</th>\n",
       "      <td>3:06 AM - 30 Jan 2019</td>\n",
       "      <td>en</td>\n",
       "      <td>['0 replies', '0 retweets', '0 likes']</td>\n",
       "      <td>Jan 30</td>\n",
       "      <td>@ndr about Plovdiv, \"The Ancient Plovdiv has b...</td>\n",
       "      <td>@Plovdiv2019</td>\n",
       "    </tr>\n",
       "    <tr>\n",
       "      <th>1</th>\n",
       "      <td>6:34 AM - 31 Jan 2019</td>\n",
       "      <td>en</td>\n",
       "      <td>['0 replies', '5 retweets', '13 likes']</td>\n",
       "      <td>9h9 hours ago</td>\n",
       "      <td>The Southern-Westphalian newspaper Siegener Ze...</td>\n",
       "      <td>@Plovdiv2019</td>\n",
       "    </tr>\n",
       "    <tr>\n",
       "      <th>2</th>\n",
       "      <td>10:01 AM - 30 Jan 2019</td>\n",
       "      <td>en</td>\n",
       "      <td>['0 replies', '0 retweets', '1 like']</td>\n",
       "      <td>Jan 30</td>\n",
       "      <td>RT Matera2019 \"RT IFLA: Congratulations to #Ma...</td>\n",
       "      <td>@kalauras</td>\n",
       "    </tr>\n",
       "    <tr>\n",
       "      <th>3</th>\n",
       "      <td>3:04 AM - 30 Jan 2019</td>\n",
       "      <td>en</td>\n",
       "      <td>['0 replies', '3 retweets', '8 likes']</td>\n",
       "      <td>Jan 30</td>\n",
       "      <td>Muzeiko is expecting you in Plovdiv! Playing k...</td>\n",
       "      <td>@Plovdiv2019</td>\n",
       "    </tr>\n",
       "    <tr>\n",
       "      <th>4</th>\n",
       "      <td>11:40 AM - 29 Jan 2019</td>\n",
       "      <td>en</td>\n",
       "      <td>['0 replies', '5 retweets', '16 likes']</td>\n",
       "      <td>Jan 29</td>\n",
       "      <td>The official ceremony of the opening of Europe...</td>\n",
       "      <td>@UnravelTravelTV</td>\n",
       "    </tr>\n",
       "  </tbody>\n",
       "</table>\n",
       "</div>"
      ],
      "text/plain": [
       "             hour_created lang                                    stats  \\\n",
       "0   3:06 AM - 30 Jan 2019   en   ['0 replies', '0 retweets', '0 likes']   \n",
       "1   6:34 AM - 31 Jan 2019   en  ['0 replies', '5 retweets', '13 likes']   \n",
       "2  10:01 AM - 30 Jan 2019   en    ['0 replies', '0 retweets', '1 like']   \n",
       "3   3:04 AM - 30 Jan 2019   en   ['0 replies', '3 retweets', '8 likes']   \n",
       "4  11:40 AM - 29 Jan 2019   en  ['0 replies', '5 retweets', '16 likes']   \n",
       "\n",
       "    time_created                                         tweet_text  \\\n",
       "0         Jan 30  @ndr about Plovdiv, \"The Ancient Plovdiv has b...   \n",
       "1  9h9 hours ago  The Southern-Westphalian newspaper Siegener Ze...   \n",
       "2         Jan 30  RT Matera2019 \"RT IFLA: Congratulations to #Ma...   \n",
       "3         Jan 30  Muzeiko is expecting you in Plovdiv! Playing k...   \n",
       "4         Jan 29  The official ceremony of the opening of Europe...   \n",
       "\n",
       "          user_name  \n",
       "0      @Plovdiv2019  \n",
       "1      @Plovdiv2019  \n",
       "2         @kalauras  \n",
       "3      @Plovdiv2019  \n",
       "4  @UnravelTravelTV  "
      ]
     },
     "execution_count": 8,
     "metadata": {},
     "output_type": "execute_result"
    }
   ],
   "source": [
    "english_tweets.head()"
   ]
  },
  {
   "cell_type": "code",
   "execution_count": 9,
   "metadata": {},
   "outputs": [
    {
     "data": {
      "text/plain": [
       "Jan 30           3\n",
       "Jan 12           3\n",
       "Jan 13           3\n",
       "Jan 23           2\n",
       "Jan 22           2\n",
       "Jan 15           2\n",
       "Jan 7            2\n",
       "Jan 29           2\n",
       "Jan 11           2\n",
       "9h9 hours ago    1\n",
       "Jan 19           1\n",
       "Jan 31           1\n",
       "Jan 20           1\n",
       "2 Jan 2018       1\n",
       "Jan 18           1\n",
       "Jan 28           1\n",
       "Jan 3            1\n",
       "Jan 27           1\n",
       "2h2 hours ago    1\n",
       "Jan 17           1\n",
       "Jan 25           1\n",
       "Name: time_created, dtype: int64"
      ]
     },
     "execution_count": 9,
     "metadata": {},
     "output_type": "execute_result"
    }
   ],
   "source": [
    "english_tweets['time_created'].value_counts()"
   ]
  },
  {
   "cell_type": "code",
   "execution_count": 10,
   "metadata": {},
   "outputs": [],
   "source": [
    "%run ../dataprep/data_clean.py\n",
    "# load the two methods in data_clean.py\n",
    "# - extract_tags and tweet_cleaner"
   ]
  },
  {
   "cell_type": "code",
   "execution_count": 11,
   "metadata": {},
   "outputs": [
    {
     "name": "stderr",
     "output_type": "stream",
     "text": [
      "c:\\program files (x86)\\python37-32\\lib\\site-packages\\ipykernel_launcher.py:1: SettingWithCopyWarning: \n",
      "A value is trying to be set on a copy of a slice from a DataFrame.\n",
      "Try using .loc[row_indexer,col_indexer] = value instead\n",
      "\n",
      "See the caveats in the documentation: http://pandas.pydata.org/pandas-docs/stable/indexing.html#indexing-view-versus-copy\n",
      "  \"\"\"Entry point for launching an IPython kernel.\n"
     ]
    }
   ],
   "source": [
    "english_tweets['tags'] = english_tweets.apply(lambda x: extract_tags(x.tweet_text), axis=1)"
   ]
  },
  {
   "cell_type": "code",
   "execution_count": 12,
   "metadata": {},
   "outputs": [
    {
     "data": {
      "text/plain": [
       "Index(['hour_created', 'lang', 'stats', 'time_created', 'tweet_text',\n",
       "       'user_name', 'tags'],\n",
       "      dtype='object')"
      ]
     },
     "execution_count": 12,
     "metadata": {},
     "output_type": "execute_result"
    }
   ],
   "source": [
    "english_tweets.columns"
   ]
  },
  {
   "cell_type": "code",
   "execution_count": 13,
   "metadata": {},
   "outputs": [
    {
     "data": {
      "text/plain": [
       "(33, 7)"
      ]
     },
     "execution_count": 13,
     "metadata": {},
     "output_type": "execute_result"
    }
   ],
   "source": [
    "english_tweets.shape"
   ]
  },
  {
   "cell_type": "markdown",
   "metadata": {},
   "source": [
    "![title](https://cdn-images-1.medium.com/max/1600/1*Xhm9c9qDfXa3ZCQjiOvm_w.jpeg)"
   ]
  },
  {
   "cell_type": "code",
   "execution_count": 14,
   "metadata": {},
   "outputs": [
    {
     "name": "stderr",
     "output_type": "stream",
     "text": [
      "c:\\program files (x86)\\python37-32\\lib\\site-packages\\ipykernel_launcher.py:1: SettingWithCopyWarning: \n",
      "A value is trying to be set on a copy of a slice from a DataFrame.\n",
      "Try using .loc[row_indexer,col_indexer] = value instead\n",
      "\n",
      "See the caveats in the documentation: http://pandas.pydata.org/pandas-docs/stable/indexing.html#indexing-view-versus-copy\n",
      "  \"\"\"Entry point for launching an IPython kernel.\n"
     ]
    }
   ],
   "source": [
    "english_tweets['cleaned_tweets'] = english_tweets.apply(lambda x: tweet_cleaner(x['tweet_text']), axis=1)"
   ]
  },
  {
   "cell_type": "code",
   "execution_count": 15,
   "metadata": {},
   "outputs": [
    {
     "data": {
      "text/plain": [
       "0     about plovdiv   the ancient plovdiv has been ...\n",
       "1    the southern westphalian newspaper siegener ze...\n",
       "2    rt matera      rt ifla  congratulations to mat...\n",
       "3    muzeiko is expecting you in plovdiv  playing k...\n",
       "4    the official ceremony of the opening of europe...\n",
       "Name: cleaned_tweets, dtype: object"
      ]
     },
     "execution_count": 15,
     "metadata": {},
     "output_type": "execute_result"
    }
   ],
   "source": [
    "english_tweets.cleaned_tweets.head()"
   ]
  },
  {
   "cell_type": "code",
   "execution_count": 16,
   "metadata": {},
   "outputs": [],
   "source": [
    "import spacy\n",
    "\n",
    "nlp = spacy.load('en')"
   ]
  },
  {
   "cell_type": "code",
   "execution_count": 17,
   "metadata": {},
   "outputs": [],
   "source": [
    "def remove_stop_and_punc(sentence):\n",
    "    return [token.lemma_ for token in nlp(sentence) \n",
    "            if not token.is_stop and not token.is_punct and not token.is_space]"
   ]
  },
  {
   "cell_type": "code",
   "execution_count": 18,
   "metadata": {},
   "outputs": [],
   "source": [
    "sentence = \"This is great day to write your project for NLP.\""
   ]
  },
  {
   "cell_type": "code",
   "execution_count": 19,
   "metadata": {},
   "outputs": [
    {
     "data": {
      "text/plain": [
       "['this', 'great', 'day', 'write', 'project', 'nlp']"
      ]
     },
     "execution_count": 19,
     "metadata": {},
     "output_type": "execute_result"
    }
   ],
   "source": [
    "remove_stop_and_punc(sentence)"
   ]
  },
  {
   "cell_type": "code",
   "execution_count": 20,
   "metadata": {},
   "outputs": [
    {
     "data": {
      "text/plain": [
       "Index(['hour_created', 'lang', 'stats', 'time_created', 'tweet_text',\n",
       "       'user_name', 'tags', 'cleaned_tweets'],\n",
       "      dtype='object')"
      ]
     },
     "execution_count": 20,
     "metadata": {},
     "output_type": "execute_result"
    }
   ],
   "source": [
    "english_tweets.columns"
   ]
  },
  {
   "cell_type": "code",
   "execution_count": 26,
   "metadata": {},
   "outputs": [
    {
     "name": "stderr",
     "output_type": "stream",
     "text": [
      "c:\\program files (x86)\\python37-32\\lib\\site-packages\\ipykernel_launcher.py:1: SettingWithCopyWarning: \n",
      "A value is trying to be set on a copy of a slice from a DataFrame.\n",
      "Try using .loc[row_indexer,col_indexer] = value instead\n",
      "\n",
      "See the caveats in the documentation: http://pandas.pydata.org/pandas-docs/stable/indexing.html#indexing-view-versus-copy\n",
      "  \"\"\"Entry point for launching an IPython kernel.\n"
     ]
    }
   ],
   "source": [
    "english_tweets['token_tweets'] = english_tweets['cleaned_tweets'].apply(remove_stop_and_punc)"
   ]
  },
  {
   "cell_type": "code",
   "execution_count": 28,
   "metadata": {},
   "outputs": [
    {
     "data": {
      "text/plain": [
       "['plovdiv',\n",
       " 'ancient',\n",
       " 'plovdiv',\n",
       " 'cultural',\n",
       " 'centre',\n",
       " 'long',\n",
       " 'time',\n",
       " 'prestigious',\n",
       " 'german',\n",
       " 'television',\n",
       " 'event',\n",
       " 'opening',\n",
       " 'weekend',\n",
       " 'plovdiv',\n",
       " 'ecoc',\n",
       " 'ecocfamily']"
      ]
     },
     "execution_count": 28,
     "metadata": {},
     "output_type": "execute_result"
    }
   ],
   "source": [
    "english_tweets['token_tweets'][0]"
   ]
  },
  {
   "cell_type": "code",
   "execution_count": 29,
   "metadata": {},
   "outputs": [
    {
     "name": "stdout",
     "output_type": "stream",
     "text": [
      "In total, there are 33 synoposes and 20 terms.\n"
     ]
    }
   ],
   "source": [
    "from sklearn.feature_extraction.text import TfidfVectorizer\n",
    "\n",
    "# Tweets_mix = []\n",
    "\n",
    "# for i, row in enumerate(tokenized_data):\n",
    "#     all_row = \"\"\n",
    "#     for sent in row:\n",
    "#         all_row += sent\n",
    "#     Tweets_mix.append(all_row)\n",
    "\n",
    "tfidf_model = TfidfVectorizer(max_df=0.9, max_features=1000,\n",
    "                              min_df=0.1, stop_words='english',\n",
    "                              use_idf=True, tokenizer=None, ngram_range=(1,1))\n",
    "\n",
    "tfidf_matrix = tfidf_model.fit_transform(english_tweets.tweet_text) #fit the vectorizer to synopses\n",
    "\n",
    "print (\"In total, there are \" + str(tfidf_matrix.shape[0]) + \\\n",
    "\n",
    "      \" synoposes and \" + str(tfidf_matrix.shape[1]) + \" terms.\")"
   ]
  },
  {
   "cell_type": "code",
   "execution_count": 35,
   "metadata": {},
   "outputs": [
    {
     "name": "stderr",
     "output_type": "stream",
     "text": [
      "c:\\program files (x86)\\python37-32\\lib\\site-packages\\ipykernel_launcher.py:6: SettingWithCopyWarning: \n",
      "A value is trying to be set on a copy of a slice from a DataFrame.\n",
      "Try using .loc[row_indexer,col_indexer] = value instead\n",
      "\n",
      "See the caveats in the documentation: http://pandas.pydata.org/pandas-docs/stable/indexing.html#indexing-view-versus-copy\n",
      "  \n"
     ]
    }
   ],
   "source": [
    "from sklearn.cluster import KMeans\n",
    "\n",
    "num_clusters = 2\n",
    "km = KMeans(n_clusters=num_clusters)\n",
    "km.fit(tfidf_matrix)\n",
    "english_tweets['kmeans'] = pd.Series(km.labels_)"
   ]
  },
  {
   "cell_type": "code",
   "execution_count": 38,
   "metadata": {},
   "outputs": [
    {
     "data": {
      "text/plain": [
       "0     @ndr about Plovdiv, \"The Ancient Plovdiv has b...\n",
       "3     Muzeiko is expecting you in Plovdiv! Playing k...\n",
       "5     ‘Changing’ is is the first solo performance of...\n",
       "6     The exhibition \"Neosvetenite dvorove\" is devot...\n",
       "8     #awEare with @GommalaccaT #Together #Plovdiv20...\n",
       "10    Our programme for 2019 is offering plenty of e...\n",
       "19    Euripides’ tragedy \"Medea\" will be presented o...\n",
       "Name: tweet_text, dtype: object"
      ]
     },
     "execution_count": 38,
     "metadata": {},
     "output_type": "execute_result"
    }
   ],
   "source": [
    "english_tweets.loc[english_tweets.kmeans == 1.0, 'tweet_text']"
   ]
  },
  {
   "cell_type": "code",
   "execution_count": 31,
   "metadata": {},
   "outputs": [
    {
     "ename": "NameError",
     "evalue": "name 'sentiment' is not defined",
     "output_type": "error",
     "traceback": [
      "\u001b[1;31m---------------------------------------------------------------------------\u001b[0m",
      "\u001b[1;31mNameError\u001b[0m                                 Traceback (most recent call last)",
      "\u001b[1;32m<ipython-input-31-681c2814e94e>\u001b[0m in \u001b[0;36m<module>\u001b[1;34m\u001b[0m\n\u001b[0;32m      1\u001b[0m \u001b[1;32mfrom\u001b[0m \u001b[0msklearn\u001b[0m\u001b[1;33m.\u001b[0m\u001b[0mmetrics\u001b[0m \u001b[1;32mimport\u001b[0m \u001b[0mprecision_recall_fscore_support\u001b[0m\u001b[1;33m,\u001b[0m \u001b[0maccuracy_score\u001b[0m\u001b[1;33m\u001b[0m\u001b[0m\n\u001b[0;32m      2\u001b[0m \u001b[1;33m\u001b[0m\u001b[0m\n\u001b[1;32m----> 3\u001b[1;33m \u001b[0maccuracy\u001b[0m \u001b[1;33m=\u001b[0m \u001b[0maccuracy_score\u001b[0m\u001b[1;33m(\u001b[0m\u001b[0mlist\u001b[0m\u001b[1;33m(\u001b[0m\u001b[0mmap\u001b[0m\u001b[1;33m(\u001b[0m\u001b[0mint\u001b[0m\u001b[1;33m,\u001b[0m \u001b[0msentiment\u001b[0m\u001b[1;33m)\u001b[0m\u001b[1;33m)\u001b[0m\u001b[1;33m,\u001b[0m \u001b[0mclusters\u001b[0m\u001b[1;33m)\u001b[0m\u001b[1;33m\u001b[0m\u001b[0m\n\u001b[0m\u001b[0;32m      4\u001b[0m \u001b[0mprecision\u001b[0m\u001b[1;33m,\u001b[0m \u001b[0mrecall\u001b[0m\u001b[1;33m,\u001b[0m \u001b[0mf1_score\u001b[0m\u001b[1;33m,\u001b[0m \u001b[0m_\u001b[0m \u001b[1;33m=\u001b[0m \u001b[0mprecision_recall_fscore_support\u001b[0m\u001b[1;33m(\u001b[0m\u001b[0mlist\u001b[0m\u001b[1;33m(\u001b[0m\u001b[0mmap\u001b[0m\u001b[1;33m(\u001b[0m\u001b[0mint\u001b[0m\u001b[1;33m,\u001b[0m \u001b[0msentiment\u001b[0m\u001b[1;33m)\u001b[0m\u001b[1;33m)\u001b[0m\u001b[1;33m,\u001b[0m \u001b[0mclusters\u001b[0m\u001b[1;33m,\u001b[0m \u001b[0maverage\u001b[0m\u001b[1;33m=\u001b[0m\u001b[1;34m'binary'\u001b[0m\u001b[1;33m)\u001b[0m\u001b[1;33m\u001b[0m\u001b[0m\n\u001b[0;32m      5\u001b[0m \u001b[1;33m\u001b[0m\u001b[0m\n",
      "\u001b[1;31mNameError\u001b[0m: name 'sentiment' is not defined"
     ]
    }
   ],
   "source": [
    "from sklearn.metrics import precision_recall_fscore_support, accuracy_score\n",
    " \n",
    "accuracy = accuracy_score(list(map(int, sentiment)), clusters)\n",
    "precision, recall, f1_score, _ = precision_recall_fscore_support(list(map(int, sentiment)), clusters, average='binary')\n",
    " \n",
    "print(\"Accuracy: \", accuracy)\n",
    "print(\"Precision: \", precision)\n",
    "print(\"Recall: \", recall)\n",
    "print(\"F1 score: \", f1_score)"
   ]
  },
  {
   "cell_type": "code",
   "execution_count": null,
   "metadata": {},
   "outputs": [],
   "source": []
  }
 ],
 "metadata": {
  "kernelspec": {
   "display_name": "Python 3",
   "language": "python",
   "name": "python3"
  },
  "language_info": {
   "codemirror_mode": {
    "name": "ipython",
    "version": 3
   },
   "file_extension": ".py",
   "mimetype": "text/x-python",
   "name": "python",
   "nbconvert_exporter": "python",
   "pygments_lexer": "ipython3",
   "version": "3.7.0"
  }
 },
 "nbformat": 4,
 "nbformat_minor": 2
}
