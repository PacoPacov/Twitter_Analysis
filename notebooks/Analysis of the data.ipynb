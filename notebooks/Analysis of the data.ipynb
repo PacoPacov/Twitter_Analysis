{
 "cells": [
  {
   "cell_type": "markdown",
   "metadata": {},
   "source": [
    "# Load data with the new search url"
   ]
  },
  {
   "cell_type": "code",
   "execution_count": 1,
   "metadata": {},
   "outputs": [],
   "source": [
    "import pandas as pd"
   ]
  },
  {
   "cell_type": "code",
   "execution_count": 2,
   "metadata": {},
   "outputs": [],
   "source": [
    "df = pd.read_csv(r\"..\\data\\tweets_01_02_2019.csv\")"
   ]
  },
  {
   "cell_type": "code",
   "execution_count": 3,
   "metadata": {},
   "outputs": [
    {
     "data": {
      "text/plain": [
       "(240, 6)"
      ]
     },
     "execution_count": 3,
     "metadata": {},
     "output_type": "execute_result"
    }
   ],
   "source": [
    "df.shape"
   ]
  },
  {
   "cell_type": "code",
   "execution_count": 4,
   "metadata": {},
   "outputs": [],
   "source": [
    "df.drop_duplicates(inplace=True)"
   ]
  },
  {
   "cell_type": "code",
   "execution_count": 5,
   "metadata": {},
   "outputs": [
    {
     "data": {
      "text/plain": [
       "(40, 6)"
      ]
     },
     "execution_count": 5,
     "metadata": {},
     "output_type": "execute_result"
    }
   ],
   "source": [
    "df.shape"
   ]
  },
  {
   "cell_type": "code",
   "execution_count": 6,
   "metadata": {},
   "outputs": [
    {
     "data": {
      "text/plain": [
       "en     33\n",
       "ro      2\n",
       "it      2\n",
       "und     1\n",
       "bg      1\n",
       "fr      1\n",
       "Name: lang, dtype: int64"
      ]
     },
     "execution_count": 6,
     "metadata": {},
     "output_type": "execute_result"
    }
   ],
   "source": [
    "df.lang.value_counts(dropna=False)"
   ]
  },
  {
   "cell_type": "code",
   "execution_count": 7,
   "metadata": {},
   "outputs": [],
   "source": [
    "english_tweets = df.loc[df.lang == 'en', :]"
   ]
  },
  {
   "cell_type": "code",
   "execution_count": 8,
   "metadata": {},
   "outputs": [
    {
     "data": {
      "text/html": [
       "<div>\n",
       "<style scoped>\n",
       "    .dataframe tbody tr th:only-of-type {\n",
       "        vertical-align: middle;\n",
       "    }\n",
       "\n",
       "    .dataframe tbody tr th {\n",
       "        vertical-align: top;\n",
       "    }\n",
       "\n",
       "    .dataframe thead th {\n",
       "        text-align: right;\n",
       "    }\n",
       "</style>\n",
       "<table border=\"1\" class=\"dataframe\">\n",
       "  <thead>\n",
       "    <tr style=\"text-align: right;\">\n",
       "      <th></th>\n",
       "      <th>hour_created</th>\n",
       "      <th>lang</th>\n",
       "      <th>stats</th>\n",
       "      <th>time_created</th>\n",
       "      <th>tweet_text</th>\n",
       "      <th>user_name</th>\n",
       "    </tr>\n",
       "  </thead>\n",
       "  <tbody>\n",
       "    <tr>\n",
       "      <th>0</th>\n",
       "      <td>3:06 AM - 30 Jan 2019</td>\n",
       "      <td>en</td>\n",
       "      <td>['0 replies', '0 retweets', '0 likes']</td>\n",
       "      <td>Jan 30</td>\n",
       "      <td>@ndr about Plovdiv, \"The Ancient Plovdiv has b...</td>\n",
       "      <td>@Plovdiv2019</td>\n",
       "    </tr>\n",
       "    <tr>\n",
       "      <th>1</th>\n",
       "      <td>6:34 AM - 31 Jan 2019</td>\n",
       "      <td>en</td>\n",
       "      <td>['0 replies', '5 retweets', '13 likes']</td>\n",
       "      <td>9h9 hours ago</td>\n",
       "      <td>The Southern-Westphalian newspaper Siegener Ze...</td>\n",
       "      <td>@Plovdiv2019</td>\n",
       "    </tr>\n",
       "    <tr>\n",
       "      <th>2</th>\n",
       "      <td>10:01 AM - 30 Jan 2019</td>\n",
       "      <td>en</td>\n",
       "      <td>['0 replies', '0 retweets', '1 like']</td>\n",
       "      <td>Jan 30</td>\n",
       "      <td>RT Matera2019 \"RT IFLA: Congratulations to #Ma...</td>\n",
       "      <td>@kalauras</td>\n",
       "    </tr>\n",
       "    <tr>\n",
       "      <th>3</th>\n",
       "      <td>3:04 AM - 30 Jan 2019</td>\n",
       "      <td>en</td>\n",
       "      <td>['0 replies', '3 retweets', '8 likes']</td>\n",
       "      <td>Jan 30</td>\n",
       "      <td>Muzeiko is expecting you in Plovdiv! Playing k...</td>\n",
       "      <td>@Plovdiv2019</td>\n",
       "    </tr>\n",
       "    <tr>\n",
       "      <th>4</th>\n",
       "      <td>11:40 AM - 29 Jan 2019</td>\n",
       "      <td>en</td>\n",
       "      <td>['0 replies', '5 retweets', '16 likes']</td>\n",
       "      <td>Jan 29</td>\n",
       "      <td>The official ceremony of the opening of Europe...</td>\n",
       "      <td>@UnravelTravelTV</td>\n",
       "    </tr>\n",
       "  </tbody>\n",
       "</table>\n",
       "</div>"
      ],
      "text/plain": [
       "             hour_created lang                                    stats  \\\n",
       "0   3:06 AM - 30 Jan 2019   en   ['0 replies', '0 retweets', '0 likes']   \n",
       "1   6:34 AM - 31 Jan 2019   en  ['0 replies', '5 retweets', '13 likes']   \n",
       "2  10:01 AM - 30 Jan 2019   en    ['0 replies', '0 retweets', '1 like']   \n",
       "3   3:04 AM - 30 Jan 2019   en   ['0 replies', '3 retweets', '8 likes']   \n",
       "4  11:40 AM - 29 Jan 2019   en  ['0 replies', '5 retweets', '16 likes']   \n",
       "\n",
       "    time_created                                         tweet_text  \\\n",
       "0         Jan 30  @ndr about Plovdiv, \"The Ancient Plovdiv has b...   \n",
       "1  9h9 hours ago  The Southern-Westphalian newspaper Siegener Ze...   \n",
       "2         Jan 30  RT Matera2019 \"RT IFLA: Congratulations to #Ma...   \n",
       "3         Jan 30  Muzeiko is expecting you in Plovdiv! Playing k...   \n",
       "4         Jan 29  The official ceremony of the opening of Europe...   \n",
       "\n",
       "          user_name  \n",
       "0      @Plovdiv2019  \n",
       "1      @Plovdiv2019  \n",
       "2         @kalauras  \n",
       "3      @Plovdiv2019  \n",
       "4  @UnravelTravelTV  "
      ]
     },
     "execution_count": 8,
     "metadata": {},
     "output_type": "execute_result"
    }
   ],
   "source": [
    "english_tweets.head()"
   ]
  },
  {
   "cell_type": "code",
   "execution_count": 9,
   "metadata": {},
   "outputs": [
    {
     "data": {
      "text/plain": [
       "Jan 13           3\n",
       "Jan 30           3\n",
       "Jan 12           3\n",
       "Jan 15           2\n",
       "Jan 23           2\n",
       "Jan 22           2\n",
       "Jan 29           2\n",
       "Jan 7            2\n",
       "Jan 11           2\n",
       "9h9 hours ago    1\n",
       "Jan 28           1\n",
       "2h2 hours ago    1\n",
       "Jan 20           1\n",
       "Jan 17           1\n",
       "Jan 18           1\n",
       "Jan 19           1\n",
       "Jan 25           1\n",
       "Jan 31           1\n",
       "2 Jan 2018       1\n",
       "Jan 3            1\n",
       "Jan 27           1\n",
       "Name: time_created, dtype: int64"
      ]
     },
     "execution_count": 9,
     "metadata": {},
     "output_type": "execute_result"
    }
   ],
   "source": [
    "english_tweets['time_created'].value_counts()"
   ]
  },
  {
   "cell_type": "code",
   "execution_count": 10,
   "metadata": {},
   "outputs": [],
   "source": [
    "%run ../dataprep/data_clean.py\n",
    "# load the two methods in data_clean.py\n",
    "# - extract_tags and tweet_cleaner"
   ]
  },
  {
   "cell_type": "code",
   "execution_count": 11,
   "metadata": {},
   "outputs": [
    {
     "name": "stderr",
     "output_type": "stream",
     "text": [
      "c:\\program files (x86)\\python37-32\\lib\\site-packages\\ipykernel_launcher.py:1: SettingWithCopyWarning: \n",
      "A value is trying to be set on a copy of a slice from a DataFrame.\n",
      "Try using .loc[row_indexer,col_indexer] = value instead\n",
      "\n",
      "See the caveats in the documentation: http://pandas.pydata.org/pandas-docs/stable/indexing.html#indexing-view-versus-copy\n",
      "  \"\"\"Entry point for launching an IPython kernel.\n"
     ]
    }
   ],
   "source": [
    "english_tweets['tags'] = english_tweets.apply(lambda x: extract_tags(x.tweet_text), axis=1)"
   ]
  },
  {
   "cell_type": "code",
   "execution_count": 12,
   "metadata": {},
   "outputs": [
    {
     "data": {
      "text/plain": [
       "Index(['hour_created', 'lang', 'stats', 'time_created', 'tweet_text',\n",
       "       'user_name', 'tags'],\n",
       "      dtype='object')"
      ]
     },
     "execution_count": 12,
     "metadata": {},
     "output_type": "execute_result"
    }
   ],
   "source": [
    "english_tweets.columns"
   ]
  },
  {
   "cell_type": "code",
   "execution_count": 13,
   "metadata": {},
   "outputs": [
    {
     "data": {
      "text/plain": [
       "(33, 7)"
      ]
     },
     "execution_count": 13,
     "metadata": {},
     "output_type": "execute_result"
    }
   ],
   "source": [
    "english_tweets.shape"
   ]
  },
  {
   "cell_type": "markdown",
   "metadata": {},
   "source": [
    "![title](https://cdn-images-1.medium.com/max/1600/1*Xhm9c9qDfXa3ZCQjiOvm_w.jpeg)"
   ]
  },
  {
   "cell_type": "code",
   "execution_count": 14,
   "metadata": {},
   "outputs": [
    {
     "name": "stderr",
     "output_type": "stream",
     "text": [
      "c:\\program files (x86)\\python37-32\\lib\\site-packages\\ipykernel_launcher.py:1: SettingWithCopyWarning: \n",
      "A value is trying to be set on a copy of a slice from a DataFrame.\n",
      "Try using .loc[row_indexer,col_indexer] = value instead\n",
      "\n",
      "See the caveats in the documentation: http://pandas.pydata.org/pandas-docs/stable/indexing.html#indexing-view-versus-copy\n",
      "  \"\"\"Entry point for launching an IPython kernel.\n"
     ]
    }
   ],
   "source": [
    "english_tweets['cleaned_tweets'] = english_tweets.apply(lambda x: tweet_cleaner(x['tweet_text']), axis=1)"
   ]
  },
  {
   "cell_type": "code",
   "execution_count": 15,
   "metadata": {},
   "outputs": [
    {
     "data": {
      "text/plain": [
       "0     about plovdiv   the ancient plovdiv has been ...\n",
       "1    the southern westphalian newspaper siegener ze...\n",
       "2    rt matera      rt ifla  congratulations to mat...\n",
       "3    muzeiko is expecting you in plovdiv  playing k...\n",
       "4    the official ceremony of the opening of europe...\n",
       "Name: cleaned_tweets, dtype: object"
      ]
     },
     "execution_count": 15,
     "metadata": {},
     "output_type": "execute_result"
    }
   ],
   "source": [
    "english_tweets.cleaned_tweets.head()"
   ]
  },
  {
   "cell_type": "code",
   "execution_count": null,
   "metadata": {},
   "outputs": [],
   "source": []
  }
 ],
 "metadata": {
  "kernelspec": {
   "display_name": "Python 3",
   "language": "python",
   "name": "python3"
  },
  "language_info": {
   "codemirror_mode": {
    "name": "ipython",
    "version": 3
   },
   "file_extension": ".py",
   "mimetype": "text/x-python",
   "name": "python",
   "nbconvert_exporter": "python",
   "pygments_lexer": "ipython3",
   "version": "3.7.0"
  }
 },
 "nbformat": 4,
 "nbformat_minor": 2
}
