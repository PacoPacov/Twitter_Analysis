{
 "cells": [
  {
   "cell_type": "markdown",
   "metadata": {},
   "source": [
    "# Welcome to Jupyter!"
   ]
  },
  {
   "cell_type": "code",
   "execution_count": 1,
   "metadata": {},
   "outputs": [
    {
     "name": "stderr",
     "output_type": "stream",
     "text": [
      "C:\\Program Files\\Anaconda2\\lib\\site-packages\\urllib3\\connectionpool.py:858: InsecureRequestWarning: Unverified HTTPS request is being made. Adding certificate verification is strongly advised. See: https://urllib3.readthedocs.io/en/latest/advanced-usage.html#ssl-warnings\n",
      "  InsecureRequestWarning)\n"
     ]
    }
   ],
   "source": [
    "import urllib3\n",
    "from bs4 import BeautifulSoup\n",
    "\n",
    "http = urllib3.PoolManager()\n",
    "response = http.request('GET', 'https://twitter.com/search?l=&q=%23ecoc%20plovdiv&src=typd')"
   ]
  },
  {
   "cell_type": "code",
   "execution_count": 2,
   "metadata": {},
   "outputs": [],
   "source": [
    "pageText = response.data"
   ]
  },
  {
   "cell_type": "code",
   "execution_count": 3,
   "metadata": {
    "collapsed": true
   },
   "outputs": [],
   "source": [
    "soup = BeautifulSoup(pageText, 'html.parser')"
   ]
  },
  {
   "cell_type": "code",
   "execution_count": 4,
   "metadata": {},
   "outputs": [],
   "source": [
    "name_box = soup.findAll('li', attrs={'class': 'js-stream-item'})"
   ]
  },
  {
   "cell_type": "code",
   "execution_count": 5,
   "metadata": {},
   "outputs": [
    {
     "data": {
      "text/plain": [
       "20"
      ]
     },
     "execution_count": 5,
     "metadata": {},
     "output_type": "execute_result"
    }
   ],
   "source": [
    "len(name_box)"
   ]
  },
  {
   "cell_type": "code",
   "execution_count": 6,
   "metadata": {},
   "outputs": [],
   "source": [
    "second_tweet = name_box[1]"
   ]
  },
  {
   "cell_type": "markdown",
   "metadata": {},
   "source": [
    "# For Single Tweet\n",
    "---"
   ]
  },
  {
   "cell_type": "code",
   "execution_count": 7,
   "metadata": {},
   "outputs": [],
   "source": [
    "m = second_tweet.find('p', attrs={'class': 'js-tweet-text'})"
   ]
  },
  {
   "cell_type": "code",
   "execution_count": 8,
   "metadata": {},
   "outputs": [
    {
     "data": {
      "text/plain": [
       "u'Plovdiv City Card\\u200f\\xa0@PlovdivCityCard  Jan 15       More          Copy link to Tweet   Embed Tweet        Fire, magic lights and mystery shadows!   The large-scale performance presented by Shade and Fire theatre \\u2018Fireter\\u2019 and FIRE THEATRE Mime Company took place right after the opening ceremony of #Plovdiv2019 and captivated the audience with its magical ambience!  #ECoC #Plovdiv pic.twitter.com/uUSRMaj9gB                                    0 replies     0 retweets     2 likes         Reply           Retweet        Retweeted            Like   2      Liked   2'"
      ]
     },
     "execution_count": 8,
     "metadata": {},
     "output_type": "execute_result"
    }
   ],
   "source": [
    "second_tweet.text.replace('\\n', ' ').strip(' ')"
   ]
  },
  {
   "cell_type": "markdown",
   "metadata": {},
   "source": [
    "### User Name"
   ]
  },
  {
   "cell_type": "code",
   "execution_count": 9,
   "metadata": {},
   "outputs": [],
   "source": [
    "user_name = second_tweet.find('span', attrs={'class': 'username'})"
   ]
  },
  {
   "cell_type": "code",
   "execution_count": 10,
   "metadata": {},
   "outputs": [
    {
     "data": {
      "text/plain": [
       "u'@PlovdivCityCard'"
      ]
     },
     "execution_count": 10,
     "metadata": {},
     "output_type": "execute_result"
    }
   ],
   "source": [
    "user_name.text"
   ]
  },
  {
   "cell_type": "markdown",
   "metadata": {},
   "source": [
    "### Time of creation"
   ]
  },
  {
   "cell_type": "code",
   "execution_count": 11,
   "metadata": {},
   "outputs": [],
   "source": [
    "time_of_creation = second_tweet.find('small', attrs={'class': 'time'})"
   ]
  },
  {
   "cell_type": "code",
   "execution_count": 12,
   "metadata": {},
   "outputs": [
    {
     "data": {
      "text/plain": [
       "u'\\nJan 15\\n'"
      ]
     },
     "execution_count": 12,
     "metadata": {},
     "output_type": "execute_result"
    }
   ],
   "source": [
    "time_of_creation.text"
   ]
  },
  {
   "cell_type": "markdown",
   "metadata": {},
   "source": [
    "#### Hour of creation"
   ]
  },
  {
   "cell_type": "code",
   "execution_count": 13,
   "metadata": {},
   "outputs": [],
   "source": [
    "hour_of_creation = second_tweet.find('a', attrs={'class': 'tweet-timestamp'})"
   ]
  },
  {
   "cell_type": "code",
   "execution_count": 14,
   "metadata": {},
   "outputs": [
    {
     "data": {
      "text/plain": [
       "u'11:00 PM - 15 Jan 2019'"
      ]
     },
     "execution_count": 14,
     "metadata": {},
     "output_type": "execute_result"
    }
   ],
   "source": [
    "hour_of_creation.get('title')"
   ]
  },
  {
   "cell_type": "markdown",
   "metadata": {},
   "source": [
    "### Tweet Text"
   ]
  },
  {
   "cell_type": "code",
   "execution_count": 15,
   "metadata": {},
   "outputs": [],
   "source": [
    "tweet_text = second_tweet.find('p', attrs={'class': 'js-tweet-text'})"
   ]
  },
  {
   "cell_type": "code",
   "execution_count": 16,
   "metadata": {},
   "outputs": [
    {
     "data": {
      "text/plain": [
       "u'Fire, magic lights and mystery shadows! \\n\\nThe large-scale performance presented by Shade and Fire theatre \\u2018Fireter\\u2019 and FIRE THEATRE Mime Company took place right after the opening ceremony of #Plovdiv2019 and captivated the audience with its magical ambience!\\n\\n#ECoC #Plovdiv pic.twitter.com/uUSRMaj9gB'"
      ]
     },
     "execution_count": 16,
     "metadata": {},
     "output_type": "execute_result"
    }
   ],
   "source": [
    "tweet_text.text"
   ]
  },
  {
   "cell_type": "code",
   "execution_count": 17,
   "metadata": {},
   "outputs": [
    {
     "data": {
      "text/plain": [
       "u'en'"
      ]
     },
     "execution_count": 17,
     "metadata": {},
     "output_type": "execute_result"
    }
   ],
   "source": [
    "tweet_text.get('lang')"
   ]
  },
  {
   "cell_type": "markdown",
   "metadata": {},
   "source": [
    "### Tweet stats"
   ]
  },
  {
   "cell_type": "code",
   "execution_count": 18,
   "metadata": {},
   "outputs": [],
   "source": [
    "stats = second_tweet.findAll('span', attrs={'class': 'ProfileTweet-actionCount'})"
   ]
  },
  {
   "cell_type": "code",
   "execution_count": 19,
   "metadata": {},
   "outputs": [
    {
     "data": {
      "text/plain": [
       "8"
      ]
     },
     "execution_count": 19,
     "metadata": {},
     "output_type": "execute_result"
    }
   ],
   "source": [
    "len(stats)"
   ]
  },
  {
   "cell_type": "code",
   "execution_count": 20,
   "metadata": {},
   "outputs": [
    {
     "data": {
      "text/plain": [
       "[u'0 replies', u'0 retweets', u'2 likes', u'', u'', u'', u'2', u'2']"
      ]
     },
     "execution_count": 20,
     "metadata": {},
     "output_type": "execute_result"
    }
   ],
   "source": [
    "[x.text.strip('\\n') for x in stats]"
   ]
  },
  {
   "cell_type": "markdown",
   "metadata": {},
   "source": [
    "---"
   ]
  },
  {
   "cell_type": "code",
   "execution_count": 21,
   "metadata": {},
   "outputs": [],
   "source": [
    "def get_information(tweet):\n",
    "    result = {}\n",
    "    result['user_name'] = tweet.find('span', attrs={'class': 'username'}).text\n",
    "    result['time_created'] = tweet.find('small', attrs={'class': 'time'}).text.strip()\n",
    "    result['hour_created'] = tweet.find('a', attrs={'class': 'tweet-timestamp'}).get('title')\n",
    "    result['tweet_text'] = tweet.find('p', attrs={'class': 'js-tweet-text'}).text\n",
    "    result['lang'] = tweet.find('p', attrs={'class': 'js-tweet-text'}).get('lang')\n",
    "    result['stats'] = [x.text.strip() for x in tweet.findAll('span', attrs={'class': 'ProfileTweet-actionCount'})[:3]]\n",
    "    \n",
    "    return result"
   ]
  },
  {
   "cell_type": "code",
   "execution_count": 22,
   "metadata": {},
   "outputs": [
    {
     "data": {
      "text/plain": [
       "{'hour_created': u'11:00 PM - 15 Jan 2019',\n",
       " 'lang': u'en',\n",
       " 'stats': [u'0 replies', u'0 retweets', u'2 likes'],\n",
       " 'time_created': u'Jan 15',\n",
       " 'tweet_text': u'Fire, magic lights and mystery shadows! \\n\\nThe large-scale performance presented by Shade and Fire theatre \\u2018Fireter\\u2019 and FIRE THEATRE Mime Company took place right after the opening ceremony of #Plovdiv2019 and captivated the audience with its magical ambience!\\n\\n#ECoC #Plovdiv pic.twitter.com/uUSRMaj9gB',\n",
       " 'user_name': u'@PlovdivCityCard'}"
      ]
     },
     "execution_count": 22,
     "metadata": {},
     "output_type": "execute_result"
    }
   ],
   "source": [
    "get_information(second_tweet)"
   ]
  },
  {
   "cell_type": "code",
   "execution_count": 23,
   "metadata": {},
   "outputs": [],
   "source": [
    "import pandas as pd"
   ]
  },
  {
   "cell_type": "code",
   "execution_count": 24,
   "metadata": {},
   "outputs": [],
   "source": [
    "data = []\n",
    "for i in name_box:\n",
    "    data.append(get_information(i))"
   ]
  },
  {
   "cell_type": "code",
   "execution_count": 25,
   "metadata": {},
   "outputs": [],
   "source": [
    "data = pd.DataFrame(data)"
   ]
  },
  {
   "cell_type": "code",
   "execution_count": 26,
   "metadata": {},
   "outputs": [
    {
     "data": {
      "text/html": [
       "<div>\n",
       "<style scoped>\n",
       "    .dataframe tbody tr th:only-of-type {\n",
       "        vertical-align: middle;\n",
       "    }\n",
       "\n",
       "    .dataframe tbody tr th {\n",
       "        vertical-align: top;\n",
       "    }\n",
       "\n",
       "    .dataframe thead th {\n",
       "        text-align: right;\n",
       "    }\n",
       "</style>\n",
       "<table border=\"1\" class=\"dataframe\">\n",
       "  <thead>\n",
       "    <tr style=\"text-align: right;\">\n",
       "      <th></th>\n",
       "      <th>hour_created</th>\n",
       "      <th>lang</th>\n",
       "      <th>stats</th>\n",
       "      <th>time_created</th>\n",
       "      <th>tweet_text</th>\n",
       "      <th>user_name</th>\n",
       "    </tr>\n",
       "  </thead>\n",
       "  <tbody>\n",
       "    <tr>\n",
       "      <th>0</th>\n",
       "      <td>2:26 AM - 21 Jan 2019</td>\n",
       "      <td>en</td>\n",
       "      <td>[0 replies, 1 retweet, 7 likes]</td>\n",
       "      <td>Jan 21</td>\n",
       "      <td>Plovdiv inspires artists around the world! Tha...</td>\n",
       "      <td>@Plovdiv2019</td>\n",
       "    </tr>\n",
       "    <tr>\n",
       "      <th>1</th>\n",
       "      <td>11:00 PM - 15 Jan 2019</td>\n",
       "      <td>en</td>\n",
       "      <td>[0 replies, 0 retweets, 2 likes]</td>\n",
       "      <td>Jan 15</td>\n",
       "      <td>Fire, magic lights and mystery shadows! \\n\\nTh...</td>\n",
       "      <td>@PlovdivCityCard</td>\n",
       "    </tr>\n",
       "    <tr>\n",
       "      <th>2</th>\n",
       "      <td>7:02 AM - 22 Jan 2019</td>\n",
       "      <td>en</td>\n",
       "      <td>[0 replies, 2 retweets, 4 likes]</td>\n",
       "      <td>9h9 hours ago</td>\n",
       "      <td>Our friends @euronews with brilliant material ...</td>\n",
       "      <td>@Plovdiv2019</td>\n",
       "    </tr>\n",
       "    <tr>\n",
       "      <th>3</th>\n",
       "      <td>1:28 AM - 22 Jan 2019</td>\n",
       "      <td>en</td>\n",
       "      <td>[0 replies, 6 retweets, 14 likes]</td>\n",
       "      <td>15h15 hours ago</td>\n",
       "      <td>Euripides’ tragedy \"Medea\" will be presented o...</td>\n",
       "      <td>@Plovdiv2019</td>\n",
       "    </tr>\n",
       "    <tr>\n",
       "      <th>4</th>\n",
       "      <td>5:38 AM - 21 Jan 2019</td>\n",
       "      <td>en</td>\n",
       "      <td>[0 replies, 2 retweets, 2 likes]</td>\n",
       "      <td>Jan 21</td>\n",
       "      <td>\"Gypsy circles\", an interesting theatrical per...</td>\n",
       "      <td>@Plovdiv2019</td>\n",
       "    </tr>\n",
       "  </tbody>\n",
       "</table>\n",
       "</div>"
      ],
      "text/plain": [
       "             hour_created lang                              stats  \\\n",
       "0   2:26 AM - 21 Jan 2019   en    [0 replies, 1 retweet, 7 likes]   \n",
       "1  11:00 PM - 15 Jan 2019   en   [0 replies, 0 retweets, 2 likes]   \n",
       "2   7:02 AM - 22 Jan 2019   en   [0 replies, 2 retweets, 4 likes]   \n",
       "3   1:28 AM - 22 Jan 2019   en  [0 replies, 6 retweets, 14 likes]   \n",
       "4   5:38 AM - 21 Jan 2019   en   [0 replies, 2 retweets, 2 likes]   \n",
       "\n",
       "      time_created                                         tweet_text  \\\n",
       "0           Jan 21  Plovdiv inspires artists around the world! Tha...   \n",
       "1           Jan 15  Fire, magic lights and mystery shadows! \\n\\nTh...   \n",
       "2    9h9 hours ago  Our friends @euronews with brilliant material ...   \n",
       "3  15h15 hours ago  Euripides’ tragedy \"Medea\" will be presented o...   \n",
       "4           Jan 21  \"Gypsy circles\", an interesting theatrical per...   \n",
       "\n",
       "          user_name  \n",
       "0      @Plovdiv2019  \n",
       "1  @PlovdivCityCard  \n",
       "2      @Plovdiv2019  \n",
       "3      @Plovdiv2019  \n",
       "4      @Plovdiv2019  "
      ]
     },
     "execution_count": 26,
     "metadata": {},
     "output_type": "execute_result"
    }
   ],
   "source": [
    "data.head()"
   ]
  },
  {
   "cell_type": "code",
   "execution_count": 27,
   "metadata": {},
   "outputs": [
    {
     "data": {
      "text/html": [
       "<div>\n",
       "<style scoped>\n",
       "    .dataframe tbody tr th:only-of-type {\n",
       "        vertical-align: middle;\n",
       "    }\n",
       "\n",
       "    .dataframe tbody tr th {\n",
       "        vertical-align: top;\n",
       "    }\n",
       "\n",
       "    .dataframe thead th {\n",
       "        text-align: right;\n",
       "    }\n",
       "</style>\n",
       "<table border=\"1\" class=\"dataframe\">\n",
       "  <thead>\n",
       "    <tr style=\"text-align: right;\">\n",
       "      <th></th>\n",
       "      <th>user_name</th>\n",
       "      <th>time_created</th>\n",
       "      <th>hour_created</th>\n",
       "      <th>lang</th>\n",
       "      <th>stats</th>\n",
       "      <th>tweet_text</th>\n",
       "    </tr>\n",
       "  </thead>\n",
       "  <tbody>\n",
       "    <tr>\n",
       "      <th>0</th>\n",
       "      <td>@Plovdiv2019</td>\n",
       "      <td>Jan 21</td>\n",
       "      <td>2:26 AM - 21 Jan 2019</td>\n",
       "      <td>en</td>\n",
       "      <td>[0 replies, 1 retweet, 7 likes]</td>\n",
       "      <td>Plovdiv inspires artists around the world! Tha...</td>\n",
       "    </tr>\n",
       "    <tr>\n",
       "      <th>1</th>\n",
       "      <td>@PlovdivCityCard</td>\n",
       "      <td>Jan 15</td>\n",
       "      <td>11:00 PM - 15 Jan 2019</td>\n",
       "      <td>en</td>\n",
       "      <td>[0 replies, 0 retweets, 2 likes]</td>\n",
       "      <td>Fire, magic lights and mystery shadows! \\n\\nTh...</td>\n",
       "    </tr>\n",
       "    <tr>\n",
       "      <th>2</th>\n",
       "      <td>@Plovdiv2019</td>\n",
       "      <td>9h9 hours ago</td>\n",
       "      <td>7:02 AM - 22 Jan 2019</td>\n",
       "      <td>en</td>\n",
       "      <td>[0 replies, 2 retweets, 4 likes]</td>\n",
       "      <td>Our friends @euronews with brilliant material ...</td>\n",
       "    </tr>\n",
       "    <tr>\n",
       "      <th>3</th>\n",
       "      <td>@Plovdiv2019</td>\n",
       "      <td>15h15 hours ago</td>\n",
       "      <td>1:28 AM - 22 Jan 2019</td>\n",
       "      <td>en</td>\n",
       "      <td>[0 replies, 6 retweets, 14 likes]</td>\n",
       "      <td>Euripides’ tragedy \"Medea\" will be presented o...</td>\n",
       "    </tr>\n",
       "    <tr>\n",
       "      <th>4</th>\n",
       "      <td>@Plovdiv2019</td>\n",
       "      <td>Jan 21</td>\n",
       "      <td>5:38 AM - 21 Jan 2019</td>\n",
       "      <td>en</td>\n",
       "      <td>[0 replies, 2 retweets, 2 likes]</td>\n",
       "      <td>\"Gypsy circles\", an interesting theatrical per...</td>\n",
       "    </tr>\n",
       "  </tbody>\n",
       "</table>\n",
       "</div>"
      ],
      "text/plain": [
       "          user_name     time_created            hour_created lang  \\\n",
       "0      @Plovdiv2019           Jan 21   2:26 AM - 21 Jan 2019   en   \n",
       "1  @PlovdivCityCard           Jan 15  11:00 PM - 15 Jan 2019   en   \n",
       "2      @Plovdiv2019    9h9 hours ago   7:02 AM - 22 Jan 2019   en   \n",
       "3      @Plovdiv2019  15h15 hours ago   1:28 AM - 22 Jan 2019   en   \n",
       "4      @Plovdiv2019           Jan 21   5:38 AM - 21 Jan 2019   en   \n",
       "\n",
       "                               stats  \\\n",
       "0    [0 replies, 1 retweet, 7 likes]   \n",
       "1   [0 replies, 0 retweets, 2 likes]   \n",
       "2   [0 replies, 2 retweets, 4 likes]   \n",
       "3  [0 replies, 6 retweets, 14 likes]   \n",
       "4   [0 replies, 2 retweets, 2 likes]   \n",
       "\n",
       "                                          tweet_text  \n",
       "0  Plovdiv inspires artists around the world! Tha...  \n",
       "1  Fire, magic lights and mystery shadows! \\n\\nTh...  \n",
       "2  Our friends @euronews with brilliant material ...  \n",
       "3  Euripides’ tragedy \"Medea\" will be presented o...  \n",
       "4  \"Gypsy circles\", an interesting theatrical per...  "
      ]
     },
     "execution_count": 27,
     "metadata": {},
     "output_type": "execute_result"
    }
   ],
   "source": [
    "data[['user_name', 'time_created', 'hour_created', 'lang', 'stats', 'tweet_text']].head()"
   ]
  },
  {
   "cell_type": "code",
   "execution_count": null,
   "metadata": {},
   "outputs": [],
   "source": []
  }
 ],
 "metadata": {
  "kernelspec": {
   "display_name": "Python [default]",
   "language": "python",
   "name": "python2"
  },
  "language_info": {
   "codemirror_mode": {
    "name": "ipython",
    "version": 2
   },
   "file_extension": ".py",
   "mimetype": "text/x-python",
   "name": "python",
   "nbconvert_exporter": "python",
   "pygments_lexer": "ipython2",
   "version": "2.7.12"
  }
 },
 "nbformat": 4,
 "nbformat_minor": 2
}
