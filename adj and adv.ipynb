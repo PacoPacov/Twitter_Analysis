{
 "cells": [
  {
   "cell_type": "code",
   "execution_count": 12,
   "metadata": {},
   "outputs": [
    {
     "name": "stdout",
     "output_type": "stream",
     "text": [
      "['                     is so sad for my APL friend.............', '                   I missed the New Moon trailer...', '              omg its already 7:30 :O', \"          .. Omgaga. Im sooo  im gunna CRy. I've been at this dentist since 11.. I was suposed 2 just get a crown put on (30mins)...\", '         i think mi bf is cheating on me!!!       T_T', '         or i just worry too much?        ', '       Juuuuuuuuuuuuuuuuussssst Chillin!!', '       Sunny Again        Work Tomorrow  :-|       TV Tonight', '      handed in my uniform today . i miss you already', '      hmmmm.... i wonder how she my number @-)', '      I must think about positive..', '      thanks to all the haters up in my face all day! 112-102', '      this weekend has sucked so far', '     jb isnt showing in australia any more!', '     ok thats it you win.', '    &lt;-------- This is the way i feel right now...', \"    awhhe man.... I'm completely useless rt now. Funny, all I can do is twitter. http://myloc.me/27HX\", \"    Feeling strangely fine. Now I'm gonna go listen to some Semisonic to celebrate\", '    HUGE roll of thunder just now...SO scary!!!!', \"    I just cut my beard off. It's only been growing for well over a year. I'm gonna start it over. @shaunamanu is happy in the meantime.\", '    Very sad about Iran.', '    wompppp wompp', \"    You're the only one who can see this cause no one else is following me this is for you because you're pretty awesome\", \"   &lt;---Sad level is 3. I was writing a massive blog tweet on Myspace and my comp shut down. Now it's all lost *lays in fetal position*\", '   ...  Headed to Hospitol : Had to pull out of the Golf Tourny in 3rd place!!!!!!!!!!! I Think I Re-Ripped something !!! Yeah THAT !!', '   BoRinG   ): whats wrong with him??     Please tell me........   :-/', \"   can't be bothered. i wish i could spend the rest of my life just sat here and going to gigs. seriously.\", '   Feeeling like shit right now. I really want to sleep, but nooo I have 3 hours of dancing and an art assignment to finish. ', '   goodbye exams, HELLO ALCOHOL TONIGHT ', \"   I didn't realize it was THAT deep. Geez give a girl a warning atleast!\", '   I hate it when any athlete appears to tear an ACL on live television.', \"   i miss you guys too     i think i'm wearing skinny jeans a cute sweater and heels   not really sure   what are you doing today\", '  -- Meet your Meat http://bit.ly/15SSCI', '   My horsie is moving on Saturday morning.', '   No Sat off...Need to work 6 days a week ', '   Really Dont Like Doing my Room Its So Boring  Sick Of Doing My Wardrobe Out Cant Waiit Till I Have My Walk In One  Yay', '   SOX!     Floyd was great, but relievers need a scolding!', '   times by like a million', '   uploading pictures on friendster ', \"   what type of a spaz downloads a virus? my brother that's who :\\\\ MSN is now fucked forever    :'(\", '  &amp;&amp;Fightiin Wiit The Babes...', '  (: !!!!!! - so i wrote something last week. and i got a call from someone in the new york office... http://tumblr.com/xcn21w6o7', '  *enough said*', '  ... Do I need to even say it?  Do I?  Well, here I go anyways:  CHRIS CORNELL IN CHICAGO!  ... TONIGHT!    ', '  ... health class (what a joke!)', '  @ginaaa &lt;3 GO TO THE SHOW TONIGHT', '  @Spiral_galaxy @YMPtweet  it really makes me sad when i look at Muslims reality now', ' - All Time Low shall be my motivation for the rest of the week.', '  and the entertainment is over, someone complained properly..   @rupturerapture experimental you say? he should experiment with a melody', \"  another year of Lakers .. That's neither magic nor fun ...\", '  baddest day eveer. ', '  bathroom is clean..... now on to more enjoyable tasks......', '  boom boom pow', \"  but i'm proud.\", '  congrats to helio though', '  David must be hospitalized for five days end of July (palatine tonsils). I will probably never see Katie in concert. ', \"  friends are leaving me 'cause of this stupid love  http://bit.ly/ZoxZC\", '  go give ur mom a hug right now. http://bit.ly/azFwv', '  Going To See Harry Sunday Happiness ', '  Hand quilting it is then...', '  hate u ...  leysh t9ar5 ... =((((((( ..', '-  I always get what I want', '  I bend backwards  ', \"  i get off work sooooon! i miss cody booo. haven't seen him in foreverr!\", \"  I hate allergies. Should I get my hair cut tomorrow? I'm taking a public poll...\", ' - I love you guys so much that it hurts. http://tumblr.com/xkh1z19us', '  I miss Earl', '  I miss New Jersey', \"  I missed the first hour of SYTYCD last night, and I can't find it online!\", '  I need a U2 fix NOW!', \"  I never thought I'd become second choice...\", '  I think I may be too friendly...lol... o well...', '  I think Manuel (my Basil plant) only has days to live   ', '  I wanna be at home @ church...I wonder wht they are doing?', '  i wanna make my own pizza', '  i want a 120gb harddrive, or a 37 inch tv, or a new guitar.  anyonefeeling generous?  =p   x', '  i want a hug', '  I want Miley to tour Australia', '  I wanted to sleep in this morning but a mean kid through a popsicle stick at me head. I wish I could fly away like those squirrels', '  i was too slow to get $1 Up tix', '  I will send sunshine to Northern Ireland, are you going swimming today @kezbat', \"  I wish I could go to T4 On The Beach :'(    Would be great to see @Shontelle_Layne &amp; @DanMerriweather   \", '  i would be so much happier if the walls of my bedroom were painted white,', '  idk wat 2 do who can i trust me im sorry 4 all da pain i have caused nebody ima take dis time out 2 straighten myself out i luv yall', \"  I'm finding the intercept slope..and banging my head against the wall..Math brain heads come save me\", \"  I'm really going to bed now...\", \"  im sick  'cough cough'\", '  in cab headed to the airport!  going home.... &lt;christy&gt;', \"  In case I feel emo in camp (feeling a wee bit of it alr)...am bringing in the Human Rights Watch World Report 2009..hope it'll work\", '  Jin has a twitter.', '  jonas day is almost over... ', \"  Jus Got Hom Fr. TDa Funeral... I'm So Sad! I Cried So Much Times! Much Love Grandpa!&lt;3 I Never Got To Say My Last &quot;Goodbye&quot; to Him.\", '  just gonna smile...cuz it is what it is..and im not sure what more they could want..', \"  Just got home, and I got to see my friend Zahra whom I haven't seen since We graduated!!!  That makes me so happy.\", ' - Longest night ever.. ugh! http://tumblr.com/xwp1yxhi6', \"  mi momacita won't let me go to my bf's bball game!!! grrr!!!\", '  Mom says I have to get a new phone IMMEDIATELY....off to T-Mobile.  she paying....', '  My new car was stolen....by my mother who wanted to go pose at church.', '  no hang out with the girls 2day. 2moro, hope so......']\n"
     ]
    }
   ],
   "source": [
    "import csv\n",
    "\n",
    "data = []\n",
    "sentiment = []\n",
    "\n",
    "with open('data/Sentiment Dataset.csv', encoding=\"utf8\") as csv_file:\n",
    "    csv_reader = csv.reader(csv_file, delimiter=',')\n",
    "    line_count = 0\n",
    "    for row in csv_reader:\n",
    "        if line_count == 100:\n",
    "            break\n",
    "        elif line_count == 0:\n",
    "            line_count +=1\n",
    "            continue\n",
    "        else:\n",
    "            data.append(row[3])\n",
    "            sentiment.append(row[1])\n",
    "            line_count += 1\n",
    "            \n",
    "print(data)"
   ]
  },
  {
   "cell_type": "code",
   "execution_count": 21,
   "metadata": {},
   "outputs": [
    {
     "name": "stdout",
     "output_type": "stream",
     "text": [
      "[['so', 'sad'], [], ['already'], ['..', 'im', 'just'], [], ['just', 'too', 'much'], [], ['-|'], ['uniform', 'already'], [], [], ['112-102'], ['so', 'far'], ['australia'], ['ok'], ['i', 'right', 'now'], ['completely', 'useless', 'now'], ['strangely', 'fine', 'Now'], ['just', 'now', 'scary'], ['just', 'only', 'well', '@', 'happy'], ['Very', 'sad'], [], ['only', 'else', 'pretty', 'awesome'], ['massive', 'down', 'Now', 'fetal'], ['Re-Ripped'], [], [\"n't\", 'i', 'just', 'here', 'seriously'], ['right', 'now', 'really', 'nooo', 'art'], [], [\"n't\", 'deep'], ['athlete', 'live'], ['too', 'i', 'i', 'not', 'really', 'sure'], [], [], [], ['Really'], ['great'], [], ['uploading'], ['now', 'forever'], [], ['so', 'i', 'last', 'i', 'new'], [], ['even', 'Well', 'here'], [], [], ['@', 'really', 'sad', 'i', 'now'], [], ['properly..', '@'], ['magic'], [], ['clean', '..', 'now', 'enjoyable'], [], ['i', 'proud'], [], ['probably', 'never'], ['stupid'], ['give', 'ur', 'right', 'now'], [], ['then'], [], ['always'], [], [\"n't\"], ['public'], ['so', 'much'], [], [], ['first', 'last', \"n't\", 'online'], [], ['never', 'second'], ['too', 'friendly', 'o', 'well'], ['only'], ['na'], ['na', 'own'], ['inch', 'new', 'generous', '=p'], [], [], ['mean', 'away'], ['too', 'slow'], [], ['great'], ['so', 'much', 'white'], ['im', 'sorry', 'nebody', 'ima', 'i'], [], ['really', 'now'], ['sick'], [], ['emo', 'wee'], [], ['almost'], ['So', 'Sad', 'So', 'Much', 'Much', 'Never', 'Last'], ['just', 'not', 'sure'], ['Just', \"n't\", 'happy'], [], [\"n't\", 'bball'], ['new'], ['new', '.by', 'pose'], ['so'], []]\n"
     ]
    }
   ],
   "source": [
    "from nltk.stem import PorterStemmer\n",
    "from nltk import pos_tag\n",
    "from nltk.tokenize import word_tokenize\n",
    "\n",
    "new_data = []\n",
    "new_data.append(list())\n",
    "for text_index, text in enumerate(data):\n",
    "    tokens = word_tokenize(text)\n",
    "    tokens_pos = pos_tag(tokens)\n",
    "    \n",
    "    for token_index, token in enumerate(tokens_pos):\n",
    "        if token[1] == 'JJ' or token[1] == 'RB':\n",
    "            new_data[text_index].append(token[0])\n",
    "    new_data.append(list())\n",
    " \n",
    "print(new_data)"
   ]
  },
  {
   "cell_type": "code",
   "execution_count": 17,
   "metadata": {},
   "outputs": [
    {
     "name": "stdout",
     "output_type": "stream",
     "text": [
      "[('Im', 'NNP'), ('happy', 'JJ')]\n"
     ]
    }
   ],
   "source": []
  }
 ],
 "metadata": {
  "kernelspec": {
   "display_name": "Python 3",
   "language": "python",
   "name": "python3"
  },
  "language_info": {
   "codemirror_mode": {
    "name": "ipython",
    "version": 3
   },
   "file_extension": ".py",
   "mimetype": "text/x-python",
   "name": "python",
   "nbconvert_exporter": "python",
   "pygments_lexer": "ipython3",
   "version": "3.7.0"
  }
 },
 "nbformat": 4,
 "nbformat_minor": 2
}
